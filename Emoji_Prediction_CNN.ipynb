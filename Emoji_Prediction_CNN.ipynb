{
  "nbformat": 4,
  "nbformat_minor": 0,
  "metadata": {
    "colab": {
      "name": "Emoji_Prediction_CNN.ipynb",
      "provenance": [],
      "toc_visible": true,
      "authorship_tag": "ABX9TyM+tkSMHcYD5QTmSgcs537p",
      "include_colab_link": true
    },
    "kernelspec": {
      "name": "python3",
      "display_name": "Python 3"
    },
    "accelerator": "GPU"
  },
  "cells": [
    {
      "cell_type": "markdown",
      "metadata": {
        "id": "view-in-github",
        "colab_type": "text"
      },
      "source": [
        "<a href=\"https://colab.research.google.com/github/ritwikranjan/mlProject/blob/master/Emoji_Prediction_CNN.ipynb\" target=\"_parent\"><img src=\"https://colab.research.google.com/assets/colab-badge.svg\" alt=\"Open In Colab\"/></a>"
      ]
    },
    {
      "cell_type": "markdown",
      "metadata": {
        "id": "qXUUu1qHQ0Ar"
      },
      "source": [
        "\n",
        "## Importing all the Libraries\n"
      ]
    },
    {
      "cell_type": "code",
      "metadata": {
        "id": "AEx2_m5JPDh2"
      },
      "source": [
        "import numpy as np\n",
        "import pandas as pd\n",
        "import matplotlib.pyplot as plt\n",
        "import seaborn as sns\n",
        "from nltk.corpus import stopwords\n",
        "from imblearn.over_sampling import SMOTE\n",
        "import re"
      ],
      "execution_count": 5,
      "outputs": []
    },
    {
      "cell_type": "markdown",
      "metadata": {
        "id": "8j9KZz1QSF3L"
      },
      "source": [
        "## Importing data using Pandas\n"
      ]
    },
    {
      "cell_type": "code",
      "metadata": {
        "id": "7XYcehY_SNzV"
      },
      "source": [
        "df = pd.read_csv('/content/data/Train.csv')\n",
        "df = df.drop(columns=['Unnamed: 0'], )"
      ],
      "execution_count": 6,
      "outputs": []
    },
    {
      "cell_type": "code",
      "metadata": {
        "id": "pMY-SfSTSeju",
        "outputId": "bd573558-e1c1-4811-b5b8-3f5621445dea",
        "colab": {
          "base_uri": "https://localhost:8080/",
          "height": 195
        }
      },
      "source": [
        "df.head()"
      ],
      "execution_count": 7,
      "outputs": [
        {
          "output_type": "execute_result",
          "data": {
            "text/html": [
              "<div>\n",
              "<style scoped>\n",
              "    .dataframe tbody tr th:only-of-type {\n",
              "        vertical-align: middle;\n",
              "    }\n",
              "\n",
              "    .dataframe tbody tr th {\n",
              "        vertical-align: top;\n",
              "    }\n",
              "\n",
              "    .dataframe thead th {\n",
              "        text-align: right;\n",
              "    }\n",
              "</style>\n",
              "<table border=\"1\" class=\"dataframe\">\n",
              "  <thead>\n",
              "    <tr style=\"text-align: right;\">\n",
              "      <th></th>\n",
              "      <th>TEXT</th>\n",
              "      <th>Label</th>\n",
              "    </tr>\n",
              "  </thead>\n",
              "  <tbody>\n",
              "    <tr>\n",
              "      <th>0</th>\n",
              "      <td>Vacation wasted ! #vacation2017 #photobomb #ti...</td>\n",
              "      <td>0</td>\n",
              "    </tr>\n",
              "    <tr>\n",
              "      <th>1</th>\n",
              "      <td>Oh Wynwood, you’re so funny! : @user #Wynwood ...</td>\n",
              "      <td>1</td>\n",
              "    </tr>\n",
              "    <tr>\n",
              "      <th>2</th>\n",
              "      <td>Been friends since 7th grade. Look at us now w...</td>\n",
              "      <td>2</td>\n",
              "    </tr>\n",
              "    <tr>\n",
              "      <th>3</th>\n",
              "      <td>This is what it looks like when someone loves ...</td>\n",
              "      <td>3</td>\n",
              "    </tr>\n",
              "    <tr>\n",
              "      <th>4</th>\n",
              "      <td>RT @user this white family was invited to a Bl...</td>\n",
              "      <td>3</td>\n",
              "    </tr>\n",
              "  </tbody>\n",
              "</table>\n",
              "</div>"
            ],
            "text/plain": [
              "                                                TEXT  Label\n",
              "0  Vacation wasted ! #vacation2017 #photobomb #ti...      0\n",
              "1  Oh Wynwood, you’re so funny! : @user #Wynwood ...      1\n",
              "2  Been friends since 7th grade. Look at us now w...      2\n",
              "3  This is what it looks like when someone loves ...      3\n",
              "4  RT @user this white family was invited to a Bl...      3"
            ]
          },
          "metadata": {
            "tags": []
          },
          "execution_count": 7
        }
      ]
    },
    {
      "cell_type": "markdown",
      "metadata": {
        "id": "3K8VCo86RAMb"
      },
      "source": [
        "## Pre-Processing using NLTK and re. \n",
        "\n",
        "* Stopword removal using NLTK                                     \n",
        "* Tokenisation using re\n",
        "* Removing words starting with #"
      ]
    },
    {
      "cell_type": "code",
      "metadata": {
        "id": "M1RkhAAAcipk",
        "outputId": "229ac0e7-8d18-431f-e0db-e60d795db28d",
        "colab": {
          "base_uri": "https://localhost:8080/"
        }
      },
      "source": [
        "import nltk\n",
        "nltk.download('stopwords')"
      ],
      "execution_count": 9,
      "outputs": [
        {
          "output_type": "stream",
          "text": [
            "[nltk_data] Downloading package stopwords to /root/nltk_data...\n",
            "[nltk_data]   Unzipping corpora/stopwords.zip.\n"
          ],
          "name": "stdout"
        },
        {
          "output_type": "execute_result",
          "data": {
            "text/plain": [
              "True"
            ]
          },
          "metadata": {
            "tags": []
          },
          "execution_count": 9
        }
      ]
    },
    {
      "cell_type": "code",
      "metadata": {
        "id": "JSDEGZFvR2vQ"
      },
      "source": [
        "corpus = list()\n",
        "sw = set(stopwords.words('english'))\n",
        "\n",
        "for i in range(70000):\n",
        "    text = df['TEXT'][i]\n",
        "    text = text.lower()\n",
        "    text = re.findall('[a-z#]+', text)\n",
        "    text = [word for word in text if word[0] != '#' and word not in sw]\n",
        "    text = ' '.join(text)\n",
        "    corpus.append(text)"
      ],
      "execution_count": 10,
      "outputs": []
    },
    {
      "cell_type": "markdown",
      "metadata": {
        "id": "FzAN4ZcQTH_x"
      },
      "source": [
        "### Making a dataframe using the pandas library\n"
      ]
    },
    {
      "cell_type": "code",
      "metadata": {
        "id": "b-EViTRIS4bS"
      },
      "source": [
        "refined_df = pd.DataFrame(corpus)\n",
        "refined_df = refined_df.join(df['Label'])\n",
        "refined_df.columns = ['text', 'emoji_label']\n",
        "refined_df = refined_df[refined_df['text'].map(len) > 0]"
      ],
      "execution_count": 11,
      "outputs": []
    },
    {
      "cell_type": "code",
      "metadata": {
        "id": "5bWmC94hTR-K",
        "outputId": "e48ec77e-1425-4a1e-bce5-8d387984bdd6",
        "colab": {
          "base_uri": "https://localhost:8080/",
          "height": 195
        }
      },
      "source": [
        "refined_df.head()"
      ],
      "execution_count": 12,
      "outputs": [
        {
          "output_type": "execute_result",
          "data": {
            "text/html": [
              "<div>\n",
              "<style scoped>\n",
              "    .dataframe tbody tr th:only-of-type {\n",
              "        vertical-align: middle;\n",
              "    }\n",
              "\n",
              "    .dataframe tbody tr th {\n",
              "        vertical-align: top;\n",
              "    }\n",
              "\n",
              "    .dataframe thead th {\n",
              "        text-align: right;\n",
              "    }\n",
              "</style>\n",
              "<table border=\"1\" class=\"dataframe\">\n",
              "  <thead>\n",
              "    <tr style=\"text-align: right;\">\n",
              "      <th></th>\n",
              "      <th>text</th>\n",
              "      <th>emoji_label</th>\n",
              "    </tr>\n",
              "  </thead>\n",
              "  <tbody>\n",
              "    <tr>\n",
              "      <th>0</th>\n",
              "      <td>vacation wasted port</td>\n",
              "      <td>0</td>\n",
              "    </tr>\n",
              "    <tr>\n",
              "      <th>1</th>\n",
              "      <td>oh wynwood funny user wynwood</td>\n",
              "      <td>1</td>\n",
              "    </tr>\n",
              "    <tr>\n",
              "      <th>2</th>\n",
              "      <td>friends since th grade look us following dream...</td>\n",
              "      <td>2</td>\n",
              "    </tr>\n",
              "    <tr>\n",
              "      <th>3</th>\n",
              "      <td>looks like someone loves unconditionally oh pu...</td>\n",
              "      <td>3</td>\n",
              "    </tr>\n",
              "    <tr>\n",
              "      <th>4</th>\n",
              "      <td>rt user white family invited black barbecue ne...</td>\n",
              "      <td>3</td>\n",
              "    </tr>\n",
              "  </tbody>\n",
              "</table>\n",
              "</div>"
            ],
            "text/plain": [
              "                                                text  emoji_label\n",
              "0                               vacation wasted port            0\n",
              "1                      oh wynwood funny user wynwood            1\n",
              "2  friends since th grade look us following dream...            2\n",
              "3  looks like someone loves unconditionally oh pu...            3\n",
              "4  rt user white family invited black barbecue ne...            3"
            ]
          },
          "metadata": {
            "tags": []
          },
          "execution_count": 12
        }
      ]
    },
    {
      "cell_type": "markdown",
      "metadata": {
        "id": "eXBAE1PnTX0Q"
      },
      "source": [
        "## Exploratory Data Analysis using matplotlib and seaborn\n",
        "\n",
        "* using numpy to make a frequency table for every emoji\n",
        "* making a bar plot using seaborn\n"
      ]
    },
    {
      "cell_type": "code",
      "metadata": {
        "id": "mGhVjVQVTiu6"
      },
      "source": [
        "label_array = np.array(refined_df['emoji_label'])\n",
        "(emojis, counts) = np.unique(label_array, return_counts=True)"
      ],
      "execution_count": 13,
      "outputs": []
    },
    {
      "cell_type": "code",
      "metadata": {
        "id": "PoO_nM2tUE8T",
        "outputId": "b5ebd20e-cc46-4867-f139-5ead24d9982f",
        "colab": {
          "base_uri": "https://localhost:8080/"
        }
      },
      "source": [
        "print(emojis)\n",
        "print(counts)"
      ],
      "execution_count": 14,
      "outputs": [
        {
          "output_type": "stream",
          "text": [
            "[ 0  1  2  3  4  5  6  7  8  9 10 11 12 13 14 15 16 17 18 19]\n",
            "[ 1556  2592  7071  6836  1876  1975  2083  4361  1992 15060  1721  2429\n",
            "  1907  3248  2340  3843  2826  2751  1721  1742]\n"
          ],
          "name": "stdout"
        }
      ]
    },
    {
      "cell_type": "code",
      "metadata": {
        "id": "6ZGZEQWAURjC",
        "outputId": "555f4d5b-7dea-4627-c9dc-a529d1b85a07",
        "colab": {
          "base_uri": "https://localhost:8080/",
          "height": 295
        }
      },
      "source": [
        "plt.style.use('dark_background')\n",
        "sns.barplot(x = emojis, y = counts)\n",
        "plt.xlabel(xlabel='Emoji Labels')\n",
        "plt.ylabel(ylabel='Emoji Count')\n",
        "plt.title('Frequency of Each Emoji Data')\n",
        "plt.show()"
      ],
      "execution_count": 15,
      "outputs": [
        {
          "output_type": "display_data",
          "data": {
            "image/png": "[encoded data removed]",
            "text/plain": [
              "<Figure size 432x288 with 1 Axes>"
            ]
          },
          "metadata": {
            "tags": []
          }
        }
      ]
    },
    {
      "cell_type": "markdown",
      "metadata": {
        "id": "bumG_5TaUcc2"
      },
      "source": [
        "> We can obseve that the distribution is not good so we will oversample the data at a later phase\n"
      ]
    },
    {
      "cell_type": "markdown",
      "metadata": {
        "id": "A42k8givUpWt"
      },
      "source": [
        "# Transfer Learning and Over-Sampling"
      ]
    },
    {
      "cell_type": "markdown",
      "metadata": {
        "id": "MMCn7GVPVEVG"
      },
      "source": [
        "## Importing glove which is comprised of 6 Billion words with 50 dimentions"
      ]
    },
    {
      "cell_type": "code",
      "metadata": {
        "id": "AxSWN_3-bBjj"
      },
      "source": [
        "f = open(\"/content/data/glove.6B.50d.txt\", encoding='utf8')\n",
        "\n",
        "embedding_index = dict()\n",
        "\n",
        "for line in f:\n",
        "    values = line.split()\n",
        "    word = values[0]\n",
        "    emb = np.array(values[1:], dtype ='float')\n",
        "    embedding_index[word] = emb\n",
        "    "
      ],
      "execution_count": 16,
      "outputs": []
    },
    {
      "cell_type": "code",
      "metadata": {
        "id": "W4Cs8lxpc2Kd",
        "outputId": "906a1a37-662a-4d23-92c3-2c583d96af85",
        "colab": {
          "base_uri": "https://localhost:8080/"
        }
      },
      "source": [
        "print(embedding_index['apple'])"
      ],
      "execution_count": 17,
      "outputs": [
        {
          "output_type": "stream",
          "text": [
            "[ 0.52042  -0.8314    0.49961   1.2893    0.1151    0.057521 -1.3753\n",
            " -0.97313   0.18346   0.47672  -0.15112   0.35532   0.25912  -0.77857\n",
            "  0.52181   0.47695  -1.4251    0.858     0.59821  -1.0903    0.33574\n",
            " -0.60891   0.41742   0.21569  -0.07417  -0.5822   -0.4502    0.17253\n",
            "  0.16448  -0.38413   2.3283   -0.66682  -0.58181   0.74389   0.095015\n",
            " -0.47865  -0.84591   0.38704   0.23693  -1.5523    0.64802  -0.16521\n",
            " -1.4719   -0.16224   0.79857   0.97391   0.40027  -0.21912  -0.30938\n",
            "  0.26581 ]\n"
          ],
          "name": "stdout"
        }
      ]
    },
    {
      "cell_type": "markdown",
      "metadata": {
        "id": "1BT6RIQOc9na"
      },
      "source": [
        "> You can clearly see that each word is represented as a vector of 50 numerical values\n"
      ]
    },
    {
      "cell_type": "markdown",
      "metadata": {
        "id": "YcOeJROhdJi1"
      },
      "source": [
        "### Now we will define a function *get_embedding_output*  \n",
        "\n",
        "> It will take a text dataframe as an input and then convert each word into a vector of 50 elements.\n",
        "\n",
        "> As we have removed a lot of words such as stop words we will be use a maximum of 12 words per tweet.\n",
        "\n"
      ]
    },
    {
      "cell_type": "code",
      "metadata": {
        "id": "0kPEKjZ5dFpN"
      },
      "source": [
        "def get_embedding_output(X):\n",
        "    maxLen = 12\n",
        "    embedding_output = np.zeros((len(X), maxLen, 50))\n",
        "\n",
        "    for ix in range(X.shape[0]):\n",
        "        my_example = X[ix].split()\n",
        "       \n",
        "        for ij in range(len(my_example)):\n",
        "            if (embedding_index.get(my_example[ij].lower()) is not None) and (ij < maxLen):\n",
        "                embedding_output[ix][ij] = embedding_index[my_example[ij].lower()]\n",
        "\n",
        "    return embedding_output\n"
      ],
      "execution_count": 20,
      "outputs": []
    },
    {
      "cell_type": "code",
      "metadata": {
        "id": "1U9qzW3reF05"
      },
      "source": [
        "x_train = refined_df['text'].values\n",
        "y_train = refined_df['emoji_label'].values\n",
        "x_train_embed = get_embedding_output(x_train)"
      ],
      "execution_count": 30,
      "outputs": []
    },
    {
      "cell_type": "code",
      "metadata": {
        "id": "j0LKhJBNedua",
        "outputId": "7de81f81-420e-4586-b440-89486a7e14ee",
        "colab": {
          "base_uri": "https://localhost:8080/"
        }
      },
      "source": [
        "print(x_train_embed[0])"
      ],
      "execution_count": 31,
      "outputs": [
        {
          "output_type": "stream",
          "text": [
            "[[ 1.2875    1.2586   -0.71297  -0.15497  -0.61965  -0.80052  -2.0029\n",
            "   0.41959  -0.075328 -0.21366  -0.84603  -0.082605  0.99821   0.11348\n",
            "   1.6989    0.65965  -0.32471  -0.24805  -0.047889  0.081395  0.48102\n",
            "   0.51665  -0.5788    0.74126   0.31082  -0.67281  -0.25039   0.22736\n",
            "   1.1558    0.54096   1.5812    0.91512  -0.88902   0.52964   0.534\n",
            "   0.1331   -0.51461   0.36751  -0.14438  -0.43314  -0.52991   0.48018\n",
            "   0.49344   0.46789  -0.46684  -0.39633   0.1686   -0.23279   0.2212\n",
            "   0.72042 ]\n",
            " [ 0.18103  -0.40867   0.43368  -0.30662   0.23923  -0.088941 -0.18667\n",
            "   1.0391   -0.071017  1.0576   -0.39      0.051926 -0.47777   0.054245\n",
            "   0.56796  -0.76576   0.90016  -0.29673  -0.14303  -0.37184  -0.25412\n",
            "   0.044725  0.24972  -0.58401   0.66839  -0.46125   0.40017   0.12867\n",
            "   0.57054  -0.3514    1.3048    1.059     0.39403  -0.10169  -0.48836\n",
            "   0.7662   -0.11982   1.27      0.33597  -0.69918   0.16059   0.038067\n",
            "  -0.070814  0.15741  -0.58301   0.272    -0.49875   0.29675   0.15272\n",
            "  -0.18731 ]\n",
            " [ 1.2905    0.40233  -0.37805   0.74917  -0.58172  -1.0446   -0.98862\n",
            "   0.38759   0.25985  -0.50311   0.23243   0.49763   0.75212  -0.86457\n",
            "  -0.67829   0.14632  -0.12788   0.70994  -1.2826    0.34561   0.86046\n",
            "  -0.066264 -0.90563   0.34611  -0.11264  -1.672     1.4062    0.61534\n",
            "   0.6683   -0.14574   2.3288   -0.046436 -0.23412  -0.037541  1.1395\n",
            "   0.29628  -0.11504  -0.27498  -0.054976  1.093     0.55523   0.85871\n",
            "   0.96032  -1.0063   -0.79771   0.5941   -0.37022  -0.21733   0.80247\n",
            "  -0.68911 ]\n",
            " [ 0.        0.        0.        0.        0.        0.        0.\n",
            "   0.        0.        0.        0.        0.        0.        0.\n",
            "   0.        0.        0.        0.        0.        0.        0.\n",
            "   0.        0.        0.        0.        0.        0.        0.\n",
            "   0.        0.        0.        0.        0.        0.        0.\n",
            "   0.        0.        0.        0.        0.        0.        0.\n",
            "   0.        0.        0.        0.        0.        0.        0.\n",
            "   0.      ]\n",
            " [ 0.        0.        0.        0.        0.        0.        0.\n",
            "   0.        0.        0.        0.        0.        0.        0.\n",
            "   0.        0.        0.        0.        0.        0.        0.\n",
            "   0.        0.        0.        0.        0.        0.        0.\n",
            "   0.        0.        0.        0.        0.        0.        0.\n",
            "   0.        0.        0.        0.        0.        0.        0.\n",
            "   0.        0.        0.        0.        0.        0.        0.\n",
            "   0.      ]\n",
            " [ 0.        0.        0.        0.        0.        0.        0.\n",
            "   0.        0.        0.        0.        0.        0.        0.\n",
            "   0.        0.        0.        0.        0.        0.        0.\n",
            "   0.        0.        0.        0.        0.        0.        0.\n",
            "   0.        0.        0.        0.        0.        0.        0.\n",
            "   0.        0.        0.        0.        0.        0.        0.\n",
            "   0.        0.        0.        0.        0.        0.        0.\n",
            "   0.      ]\n",
            " [ 0.        0.        0.        0.        0.        0.        0.\n",
            "   0.        0.        0.        0.        0.        0.        0.\n",
            "   0.        0.        0.        0.        0.        0.        0.\n",
            "   0.        0.        0.        0.        0.        0.        0.\n",
            "   0.        0.        0.        0.        0.        0.        0.\n",
            "   0.        0.        0.        0.        0.        0.        0.\n",
            "   0.        0.        0.        0.        0.        0.        0.\n",
            "   0.      ]\n",
            " [ 0.        0.        0.        0.        0.        0.        0.\n",
            "   0.        0.        0.        0.        0.        0.        0.\n",
            "   0.        0.        0.        0.        0.        0.        0.\n",
            "   0.        0.        0.        0.        0.        0.        0.\n",
            "   0.        0.        0.        0.        0.        0.        0.\n",
            "   0.        0.        0.        0.        0.        0.        0.\n",
            "   0.        0.        0.        0.        0.        0.        0.\n",
            "   0.      ]\n",
            " [ 0.        0.        0.        0.        0.        0.        0.\n",
            "   0.        0.        0.        0.        0.        0.        0.\n",
            "   0.        0.        0.        0.        0.        0.        0.\n",
            "   0.        0.        0.        0.        0.        0.        0.\n",
            "   0.        0.        0.        0.        0.        0.        0.\n",
            "   0.        0.        0.        0.        0.        0.        0.\n",
            "   0.        0.        0.        0.        0.        0.        0.\n",
            "   0.      ]\n",
            " [ 0.        0.        0.        0.        0.        0.        0.\n",
            "   0.        0.        0.        0.        0.        0.        0.\n",
            "   0.        0.        0.        0.        0.        0.        0.\n",
            "   0.        0.        0.        0.        0.        0.        0.\n",
            "   0.        0.        0.        0.        0.        0.        0.\n",
            "   0.        0.        0.        0.        0.        0.        0.\n",
            "   0.        0.        0.        0.        0.        0.        0.\n",
            "   0.      ]\n",
            " [ 0.        0.        0.        0.        0.        0.        0.\n",
            "   0.        0.        0.        0.        0.        0.        0.\n",
            "   0.        0.        0.        0.        0.        0.        0.\n",
            "   0.        0.        0.        0.        0.        0.        0.\n",
            "   0.        0.        0.        0.        0.        0.        0.\n",
            "   0.        0.        0.        0.        0.        0.        0.\n",
            "   0.        0.        0.        0.        0.        0.        0.\n",
            "   0.      ]\n",
            " [ 0.        0.        0.        0.        0.        0.        0.\n",
            "   0.        0.        0.        0.        0.        0.        0.\n",
            "   0.        0.        0.        0.        0.        0.        0.\n",
            "   0.        0.        0.        0.        0.        0.        0.\n",
            "   0.        0.        0.        0.        0.        0.        0.\n",
            "   0.        0.        0.        0.        0.        0.        0.\n",
            "   0.        0.        0.        0.        0.        0.        0.\n",
            "   0.      ]]\n"
          ],
          "name": "stdout"
        }
      ]
    },
    {
      "cell_type": "markdown",
      "metadata": {
        "id": "IiWYh0H1emzT"
      },
      "source": [
        "> Now each tweet will be an numpy array of 12 x 50"
      ]
    },
    {
      "cell_type": "markdown",
      "metadata": {
        "id": "IOXORK4tfOeJ"
      },
      "source": [
        "### Converting emoji_label to One Hot Vector"
      ]
    },
    {
      "cell_type": "code",
      "metadata": {
        "id": "IiZpjW31fW0R"
      },
      "source": [
        "from keras.utils import to_categorical\n",
        "\n",
        "y_train_ohv = to_categorical(y_train)"
      ],
      "execution_count": 32,
      "outputs": []
    },
    {
      "cell_type": "code",
      "metadata": {
        "id": "LpJhJw56flB2",
        "outputId": "f2ae32f9-b1b8-4de4-a586-1660b0256fac",
        "colab": {
          "base_uri": "https://localhost:8080/"
        }
      },
      "source": [
        "print(y_train[8])\n",
        "print(y_train_ohv[8])"
      ],
      "execution_count": 33,
      "outputs": [
        {
          "output_type": "stream",
          "text": [
            "2\n",
            "[0. 0. 1. 0. 0. 0. 0. 0. 0. 0. 0. 0. 0. 0. 0. 0. 0. 0. 0. 0.]\n"
          ],
          "name": "stdout"
        }
      ]
    },
    {
      "cell_type": "markdown",
      "metadata": {
        "id": "Oq1XOdelezcO"
      },
      "source": [
        "## Oversampling using SMOTE\n"
      ]
    },
    {
      "cell_type": "code",
      "metadata": {
        "id": "Oozii4_2gHSJ",
        "outputId": "3e285b8d-f227-4935-f840-4d969dc5810b",
        "colab": {
          "base_uri": "https://localhost:8080/"
        }
      },
      "source": [
        "x_train_embed.shape"
      ],
      "execution_count": 34,
      "outputs": [
        {
          "output_type": "execute_result",
          "data": {
            "text/plain": [
              "(69930, 12, 50)"
            ]
          },
          "metadata": {
            "tags": []
          },
          "execution_count": 34
        }
      ]
    },
    {
      "cell_type": "code",
      "metadata": {
        "id": "4yvw4ai9e4mC"
      },
      "source": [
        "from imblearn.over_sampling import SMOTE\n",
        "\n",
        "x_train_embed = x_train_embed.reshape(-1, 600)\n",
        "\n",
        "oversample = SMOTE()\n",
        "x, y = oversample.fit_resample(x_train_embed, y_train)"
      ],
      "execution_count": null,
      "outputs": []
    },
    {
      "cell_type": "code",
      "metadata": {
        "id": "E8kSn1Z3htIy",
        "outputId": "5c58d755-594a-42cf-faf1-371a33f6b416",
        "colab": {
          "base_uri": "https://localhost:8080/"
        }
      },
      "source": [
        "print(x.shape)\n",
        "\n",
        "print(y.shape)"
      ],
      "execution_count": 36,
      "outputs": [
        {
          "output_type": "stream",
          "text": [
            "(301200, 600)\n",
            "(301200,)\n"
          ],
          "name": "stdout"
        }
      ]
    },
    {
      "cell_type": "markdown",
      "metadata": {
        "id": "7YYFZ2SKiQav"
      },
      "source": [
        "> Now we will visualize and see if our data is properly sampled or not"
      ]
    },
    {
      "cell_type": "code",
      "metadata": {
        "id": "k2zLJQFWi2g8",
        "outputId": "0edb2d50-bb9a-4963-be05-df6a28bd5309",
        "colab": {
          "base_uri": "https://localhost:8080/",
          "height": 348
        }
      },
      "source": [
        "(emojis, counts) = np.unique(y, return_counts=True)\n",
        "\n",
        "print(emojis)\n",
        "print(counts)\n",
        "\n",
        "plt.style.use('dark_background')\n",
        "sns.barplot(x = emojis, y = counts)\n",
        "plt.xlabel(xlabel='Emoji Labels')\n",
        "plt.ylabel(ylabel='Emoji Count')\n",
        "plt.title('Frequency of Each Emoji Data')\n",
        "plt.show()"
      ],
      "execution_count": 40,
      "outputs": [
        {
          "output_type": "stream",
          "text": [
            "[ 0  1  2  3  4  5  6  7  8  9 10 11 12 13 14 15 16 17 18 19]\n",
            "[15060 15060 15060 15060 15060 15060 15060 15060 15060 15060 15060 15060\n",
            " 15060 15060 15060 15060 15060 15060 15060 15060]\n"
          ],
          "name": "stdout"
        },
        {
          "output_type": "display_data",
          "data": {
            "image/png": "[encoded data removed]",
            "text/plain": [
              "<Figure size 432x288 with 1 Axes>"
            ]
          },
          "metadata": {
            "tags": []
          }
        }
      ]
    },
    {
      "cell_type": "markdown",
      "metadata": {
        "id": "YOa-TwiDjVL_"
      },
      "source": [
        "> Now our data is properly sampled. We will reshape our data such that it gets reverted to its original values"
      ]
    },
    {
      "cell_type": "code",
      "metadata": {
        "id": "kEZUDErMjkBg",
        "outputId": "7028d297-ac85-474e-c321-111f2710a616",
        "colab": {
          "base_uri": "https://localhost:8080/"
        }
      },
      "source": [
        "x = x.reshape((-1,12,50))\n",
        "\n",
        "x.shape"
      ],
      "execution_count": 41,
      "outputs": [
        {
          "output_type": "execute_result",
          "data": {
            "text/plain": [
              "(301200, 12, 50)"
            ]
          },
          "metadata": {
            "tags": []
          },
          "execution_count": 41
        }
      ]
    },
    {
      "cell_type": "code",
      "metadata": {
        "id": "ZelQw8o4j4LV",
        "outputId": "534cc204-c099-4fb6-ec6b-fb45d73e0151",
        "colab": {
          "base_uri": "https://localhost:8080/"
        }
      },
      "source": [
        "y = to_categorical(y)\n",
        "\n",
        "print(y[1])"
      ],
      "execution_count": 42,
      "outputs": [
        {
          "output_type": "stream",
          "text": [
            "[0. 1. 0. 0. 0. 0. 0. 0. 0. 0. 0. 0. 0. 0. 0. 0. 0. 0. 0. 0.]\n"
          ],
          "name": "stdout"
        }
      ]
    },
    {
      "cell_type": "markdown",
      "metadata": {
        "id": "l1-IQBVTkFyD"
      },
      "source": [
        "> Now our data is properly configured to be fed to a neural Network"
      ]
    },
    {
      "cell_type": "markdown",
      "metadata": {
        "id": "r7hTIOLVkkni"
      },
      "source": [
        "## Forming Layers using Keras"
      ]
    }
  ]
}